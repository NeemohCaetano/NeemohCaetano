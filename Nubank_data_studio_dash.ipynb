{
 "cells": [
  {
   "cell_type": "code",
   "execution_count": 1,
   "metadata": {},
   "outputs": [],
   "source": [
    "import pandas as pd\n",
    "import os\n",
    "import gspread\n",
    "from oauth2client.service_account import ServiceAccountCredentials"
   ]
  },
  {
   "cell_type": "code",
   "execution_count": 2,
   "metadata": {},
   "outputs": [
    {
     "name": "stdout",
     "output_type": "stream",
     "text": [
      "c:\\Users\\pcfmp\\OneDrive\\Documentos\\Py/gastos\n"
     ]
    }
   ],
   "source": [
    "path = os.getcwd() +'/' + input('Insira o nome da sua pasta:')\n",
    "print(path)"
   ]
  },
  {
   "cell_type": "code",
   "execution_count": 3,
   "metadata": {},
   "outputs": [],
   "source": [
    "\n",
    "files = [file for file in os.listdir(path) if not file.startswith('.')]\n",
    "\n",
    "\n",
    "all_months_df = pd.DataFrame()\n",
    "\n",
    "for file in files: \n",
    "    current_df = pd.read_csv(path+\"/\"+file)\n",
    "    all_months_df = pd.concat([all_months_df, current_df])\n",
    "    \n",
    "all_months_df.to_csv(\"nu_df.csv\", index=False)"
   ]
  },
  {
   "cell_type": "code",
   "execution_count": 4,
   "metadata": {},
   "outputs": [
    {
     "data": {
      "text/html": [
       "<div>\n",
       "<style scoped>\n",
       "    .dataframe tbody tr th:only-of-type {\n",
       "        vertical-align: middle;\n",
       "    }\n",
       "\n",
       "    .dataframe tbody tr th {\n",
       "        vertical-align: top;\n",
       "    }\n",
       "\n",
       "    .dataframe thead th {\n",
       "        text-align: right;\n",
       "    }\n",
       "</style>\n",
       "<table border=\"1\" class=\"dataframe\">\n",
       "  <thead>\n",
       "    <tr style=\"text-align: right;\">\n",
       "      <th></th>\n",
       "      <th>date</th>\n",
       "      <th>category</th>\n",
       "      <th>title</th>\n",
       "      <th>amount</th>\n",
       "    </tr>\n",
       "  </thead>\n",
       "  <tbody>\n",
       "    <tr>\n",
       "      <th>0</th>\n",
       "      <td>2020-12-12</td>\n",
       "      <td>serviços</td>\n",
       "      <td>Picpay *Vt9 Pgtoconta 6/6</td>\n",
       "      <td>13.52</td>\n",
       "    </tr>\n",
       "    <tr>\n",
       "      <th>1</th>\n",
       "      <td>2020-12-14</td>\n",
       "      <td>NaN</td>\n",
       "      <td>Pagamento recebido</td>\n",
       "      <td>-18.10</td>\n",
       "    </tr>\n",
       "    <tr>\n",
       "      <th>2</th>\n",
       "      <td>2020-12-14</td>\n",
       "      <td>NaN</td>\n",
       "      <td>Pagamento recebido</td>\n",
       "      <td>-185.79</td>\n",
       "    </tr>\n",
       "    <tr>\n",
       "      <th>3</th>\n",
       "      <td>2020-12-16</td>\n",
       "      <td>educação</td>\n",
       "      <td>Memrise.Com</td>\n",
       "      <td>155.68</td>\n",
       "    </tr>\n",
       "    <tr>\n",
       "      <th>4</th>\n",
       "      <td>2020-12-16</td>\n",
       "      <td>NaN</td>\n",
       "      <td>IOF de \"Memrise.Com\"</td>\n",
       "      <td>9.93</td>\n",
       "    </tr>\n",
       "  </tbody>\n",
       "</table>\n",
       "</div>"
      ],
      "text/plain": [
       "         date  category                      title  amount\n",
       "0  2020-12-12  serviços  Picpay *Vt9 Pgtoconta 6/6   13.52\n",
       "1  2020-12-14       NaN         Pagamento recebido  -18.10\n",
       "2  2020-12-14       NaN         Pagamento recebido -185.79\n",
       "3  2020-12-16  educação                Memrise.Com  155.68\n",
       "4  2020-12-16       NaN       IOF de \"Memrise.Com\"    9.93"
      ]
     },
     "execution_count": 4,
     "metadata": {},
     "output_type": "execute_result"
    }
   ],
   "source": [
    "nu_df = pd.read_csv('nu_df.csv')\n",
    "nu_df.head()"
   ]
  },
  {
   "cell_type": "code",
   "execution_count": 5,
   "metadata": {},
   "outputs": [
    {
     "data": {
      "text/html": [
       "<div>\n",
       "<style scoped>\n",
       "    .dataframe tbody tr th:only-of-type {\n",
       "        vertical-align: middle;\n",
       "    }\n",
       "\n",
       "    .dataframe tbody tr th {\n",
       "        vertical-align: top;\n",
       "    }\n",
       "\n",
       "    .dataframe thead th {\n",
       "        text-align: right;\n",
       "    }\n",
       "</style>\n",
       "<table border=\"1\" class=\"dataframe\">\n",
       "  <thead>\n",
       "    <tr style=\"text-align: right;\">\n",
       "      <th></th>\n",
       "      <th>date</th>\n",
       "      <th>category</th>\n",
       "      <th>title</th>\n",
       "      <th>amount</th>\n",
       "    </tr>\n",
       "  </thead>\n",
       "  <tbody>\n",
       "    <tr>\n",
       "      <th>0</th>\n",
       "      <td>2020-12-12</td>\n",
       "      <td>serviços</td>\n",
       "      <td>Picpay *Vt9 Pgtoconta 6/6</td>\n",
       "      <td>13.52</td>\n",
       "    </tr>\n",
       "    <tr>\n",
       "      <th>3</th>\n",
       "      <td>2020-12-16</td>\n",
       "      <td>educação</td>\n",
       "      <td>Memrise.Com</td>\n",
       "      <td>155.68</td>\n",
       "    </tr>\n",
       "    <tr>\n",
       "      <th>5</th>\n",
       "      <td>2020-12-21</td>\n",
       "      <td>transporte</td>\n",
       "      <td>Uberbr Uber * Pending</td>\n",
       "      <td>11.39</td>\n",
       "    </tr>\n",
       "    <tr>\n",
       "      <th>7</th>\n",
       "      <td>2020-12-21</td>\n",
       "      <td>transporte</td>\n",
       "      <td>Uberbr Uber * Pending</td>\n",
       "      <td>16.73</td>\n",
       "    </tr>\n",
       "    <tr>\n",
       "      <th>8</th>\n",
       "      <td>2020-12-24</td>\n",
       "      <td>eletrônicos</td>\n",
       "      <td>Mercpago*Clickbus</td>\n",
       "      <td>50.75</td>\n",
       "    </tr>\n",
       "  </tbody>\n",
       "</table>\n",
       "</div>"
      ],
      "text/plain": [
       "         date     category                      title  amount\n",
       "0  2020-12-12     serviços  Picpay *Vt9 Pgtoconta 6/6   13.52\n",
       "3  2020-12-16     educação                Memrise.Com  155.68\n",
       "5  2020-12-21   transporte      Uberbr Uber * Pending   11.39\n",
       "7  2020-12-21   transporte      Uberbr Uber * Pending   16.73\n",
       "8  2020-12-24  eletrônicos          Mercpago*Clickbus   50.75"
      ]
     },
     "execution_count": 5,
     "metadata": {},
     "output_type": "execute_result"
    }
   ],
   "source": [
    "nu_df = nu_df.dropna()\n",
    "nu_df.head()"
   ]
  },
  {
   "cell_type": "code",
   "execution_count": 6,
   "metadata": {},
   "outputs": [],
   "source": [
    "nu_df['amount'] = pd.to_numeric(nu_df['amount'])"
   ]
  },
  {
   "cell_type": "code",
   "execution_count": 7,
   "metadata": {},
   "outputs": [
    {
     "data": {
      "text/html": [
       "<div>\n",
       "<style scoped>\n",
       "    .dataframe tbody tr th:only-of-type {\n",
       "        vertical-align: middle;\n",
       "    }\n",
       "\n",
       "    .dataframe tbody tr th {\n",
       "        vertical-align: top;\n",
       "    }\n",
       "\n",
       "    .dataframe thead th {\n",
       "        text-align: right;\n",
       "    }\n",
       "</style>\n",
       "<table border=\"1\" class=\"dataframe\">\n",
       "  <thead>\n",
       "    <tr style=\"text-align: right;\">\n",
       "      <th></th>\n",
       "      <th>date</th>\n",
       "      <th>category</th>\n",
       "      <th>title</th>\n",
       "      <th>amount</th>\n",
       "      <th>month</th>\n",
       "      <th>year</th>\n",
       "    </tr>\n",
       "  </thead>\n",
       "  <tbody>\n",
       "    <tr>\n",
       "      <th>0</th>\n",
       "      <td>2020-12-12</td>\n",
       "      <td>serviços</td>\n",
       "      <td>Picpay *Vt9 Pgtoconta 6/6</td>\n",
       "      <td>13.52</td>\n",
       "      <td>12</td>\n",
       "      <td>2020</td>\n",
       "    </tr>\n",
       "    <tr>\n",
       "      <th>3</th>\n",
       "      <td>2020-12-16</td>\n",
       "      <td>educação</td>\n",
       "      <td>Memrise.Com</td>\n",
       "      <td>155.68</td>\n",
       "      <td>12</td>\n",
       "      <td>2020</td>\n",
       "    </tr>\n",
       "    <tr>\n",
       "      <th>5</th>\n",
       "      <td>2020-12-21</td>\n",
       "      <td>transporte</td>\n",
       "      <td>Uberbr Uber * Pending</td>\n",
       "      <td>11.39</td>\n",
       "      <td>12</td>\n",
       "      <td>2020</td>\n",
       "    </tr>\n",
       "    <tr>\n",
       "      <th>7</th>\n",
       "      <td>2020-12-21</td>\n",
       "      <td>transporte</td>\n",
       "      <td>Uberbr Uber * Pending</td>\n",
       "      <td>16.73</td>\n",
       "      <td>12</td>\n",
       "      <td>2020</td>\n",
       "    </tr>\n",
       "    <tr>\n",
       "      <th>8</th>\n",
       "      <td>2020-12-24</td>\n",
       "      <td>eletrônicos</td>\n",
       "      <td>Mercpago*Clickbus</td>\n",
       "      <td>50.75</td>\n",
       "      <td>12</td>\n",
       "      <td>2020</td>\n",
       "    </tr>\n",
       "  </tbody>\n",
       "</table>\n",
       "</div>"
      ],
      "text/plain": [
       "         date     category                      title  amount  month  year\n",
       "0  2020-12-12     serviços  Picpay *Vt9 Pgtoconta 6/6   13.52     12  2020\n",
       "3  2020-12-16     educação                Memrise.Com  155.68     12  2020\n",
       "5  2020-12-21   transporte      Uberbr Uber * Pending   11.39     12  2020\n",
       "7  2020-12-21   transporte      Uberbr Uber * Pending   16.73     12  2020\n",
       "8  2020-12-24  eletrônicos          Mercpago*Clickbus   50.75     12  2020"
      ]
     },
     "execution_count": 7,
     "metadata": {},
     "output_type": "execute_result"
    }
   ],
   "source": [
    "nu_df ['month'] = pd.to_datetime(nu_df['date']).dt.month\n",
    "nu_df ['year'] = pd.to_datetime(nu_df['date']).dt.year\n",
    "nu_df.head()"
   ]
  },
  {
   "cell_type": "code",
   "execution_count": 8,
   "metadata": {},
   "outputs": [],
   "source": [
    "scope = scope = ['https://spreadsheets.google.com/feeds','https://www.googleapis.com/auth/drive']\n",
    "\n",
    "creds = ServiceAccountCredentials.from_json_keyfile_name('C:/Users/pcfmp/OneDrive/Documentos/PY/proje_nu.json', scope)\n",
    "\n",
    "client = gspread.authorize(creds)\n",
    "\n",
    "sheet = client.open('nubank_gastos_automação')\n",
    "sheet_instance = sheet.get_worksheet(0)\n"
   ]
  },
  {
   "cell_type": "code",
   "execution_count": null,
   "metadata": {},
   "outputs": [],
   "source": [
    "sheet_nu = sheet_instance.update([nu_df.columns.values.tolist()] + nu_df.values.tolist())"
   ]
  },
  {
   "cell_type": "code",
   "execution_count": null,
   "metadata": {},
   "outputs": [],
   "source": []
  }
 ],
 "metadata": {
  "interpreter": {
   "hash": "5ced518c0d21c2dac5f638dd679f74090b53b5af55b1f3c7bb08b9057126c668"
  },
  "kernelspec": {
   "display_name": "Python 3.8.8 64-bit ('base': conda)",
   "language": "python",
   "name": "python3"
  },
  "language_info": {
   "codemirror_mode": {
    "name": "ipython",
    "version": 3
   },
   "file_extension": ".py",
   "mimetype": "text/x-python",
   "name": "python",
   "nbconvert_exporter": "python",
   "pygments_lexer": "ipython3",
   "version": "3.8.8"
  },
  "orig_nbformat": 4
 },
 "nbformat": 4,
 "nbformat_minor": 2
}
